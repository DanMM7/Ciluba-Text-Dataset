{
 "cells": [
  {
   "cell_type": "code",
   "execution_count": null,
   "metadata": {},
   "outputs": [],
   "source": [
    "%pip install requests beautifulsoup4 pandas openpyxl\n",
    "import os\n",
    "import re\n",
    "import json\n",
    "import random\n"
   ]
  },
  {
   "cell_type": "code",
   "execution_count": null,
   "metadata": {},
   "outputs": [],
   "source": [
    "\n",
    "# Paths\n",
    "DATA_DIR = \"data_source\"\n",
    "OUTPUT_DIR = \".\"\n",
    "TRAIN_FILE = os.path.join(OUTPUT_DIR, \"train.jsonl\")\n",
    "VAL_FILE = os.path.join(OUTPUT_DIR, \"val.jsonl\")\n",
    "TEST_FILE = os.path.join(OUTPUT_DIR, \"test.jsonl\")\n",
    "\n",
    "def load_texts(data_dir):\n",
    "    \"\"\"Load all .txt files inside the data_source folder\"\"\"\n",
    "    texts = []\n",
    "    for root, _, files in os.walk(data_dir):\n",
    "        for f in files:\n",
    "            if f.endswith(\".txt\"):\n",
    "                with open(os.path.join(root, f), \"r\", encoding=\"utf-8\", errors=\"ignore\") as infile:\n",
    "                    texts.append(infile.read())\n",
    "    return texts\n",
    "\n",
    "def clean_text(text):\n",
    "    \"\"\"Normalize Tshiluba text\"\"\"\n",
    "    text = text.replace(\"\\n\", \" \")  # remove line breaks\n",
    "    text = re.sub(r\"[^a-zA-Zà-žÀ-Ž\\s\\.\\,\\;\\:\\?\\!']\", \" \", text)  # keep letters & punctuation\n",
    "    text = re.sub(r\"\\s+\", \" \", text)  # collapse spaces\n",
    "    return text.strip()\n",
    "\n",
    "def split_sentences(text):\n",
    "    \"\"\"Split text into sentences using punctuation\"\"\"\n",
    "    sentences = re.split(r\"[\\.!\\?]+\", text)\n",
    "    return [s.strip() for s in sentences if len(s.strip()) > 3]"
   ]
  },
  {
   "cell_type": "code",
   "execution_count": null,
   "metadata": {},
   "outputs": [],
   "source": [
    "# Step 1: Load and preprocess\n",
    "all_texts = load_texts(DATA_DIR)\n",
    "cleaned_sentences = []\n",
    "for t in all_texts:\n",
    "    cleaned_sentences.extend(split_sentences(clean_text(t)))\n",
    "\n",
    "print(f\"Collected {len(cleaned_sentences)} sentences.\")\n",
    "\n",
    "# Step 2: Shuffle\n",
    "random.shuffle(cleaned_sentences)\n",
    "\n",
    "# Step 3: Split train/val/test (70/15/15)\n",
    "n = len(cleaned_sentences)\n",
    "train_split = int(0.7 * n)\n",
    "val_split = int(0.85 * n)\n",
    "\n",
    "train_data = cleaned_sentences[:train_split]\n",
    "val_data = cleaned_sentences[train_split:val_split]\n",
    "test_data = cleaned_sentences[val_split:]\n",
    "\n",
    "# Step 4: Save JSONL\n",
    "def save_jsonl(filename, sentences):\n",
    "    with open(filename, \"w\", encoding=\"utf-8\") as f:\n",
    "        for i, s in enumerate(sentences):\n",
    "            f.write(json.dumps({\"id\": f\"{os.path.basename(filename)}_{i}\", \"text\": s}, ensure_ascii=False) + \"\\n\")\n",
    "\n",
    "save_jsonl(TRAIN_FILE, train_data)\n",
    "save_jsonl(VAL_FILE, val_data)\n",
    "save_jsonl(TEST_FILE, test_data)\n",
    "\n",
    "print(f\"Saved {len(train_data)} train, {len(val_data)} val, {len(test_data)} test sentences.\")\n",
    "        "
   ]
  }
 ],
 "metadata": {
  "kernelspec": {
   "display_name": "Python 3",
   "language": "python",
   "name": "python3"
  },
  "language_info": {
   "codemirror_mode": {
    "name": "ipython",
    "version": 3
   },
   "file_extension": ".py",
   "mimetype": "text/x-python",
   "name": "python",
   "nbconvert_exporter": "python",
   "pygments_lexer": "ipython3",
   "version": "3.11.9"
  }
 },
 "nbformat": 4,
 "nbformat_minor": 2
}
