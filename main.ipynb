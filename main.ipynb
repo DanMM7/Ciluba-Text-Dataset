{
 "cells": [
  {
   "cell_type": "code",
   "execution_count": 9,
   "metadata": {},
   "outputs": [
    {
     "name": "stdout",
     "output_type": "stream",
     "text": [
      "Requirement already satisfied: requests in c:\\users\\malen\\appdata\\local\\packages\\pythonsoftwarefoundation.python.3.11_qbz5n2kfra8p0\\localcache\\local-packages\\python311\\site-packages (2.32.3)Note: you may need to restart the kernel to use updated packages.\n",
      "\n",
      "Requirement already satisfied: beautifulsoup4 in c:\\users\\malen\\appdata\\local\\packages\\pythonsoftwarefoundation.python.3.11_qbz5n2kfra8p0\\localcache\\local-packages\\python311\\site-packages (4.13.3)\n",
      "Requirement already satisfied: pandas in c:\\users\\malen\\appdata\\local\\packages\\pythonsoftwarefoundation.python.3.11_qbz5n2kfra8p0\\localcache\\local-packages\\python311\\site-packages (2.2.3)\n",
      "Requirement already satisfied: openpyxl in c:\\users\\malen\\appdata\\local\\packages\\pythonsoftwarefoundation.python.3.11_qbz5n2kfra8p0\\localcache\\local-packages\\python311\\site-packages (3.1.5)\n",
      "Requirement already satisfied: charset-normalizer<4,>=2 in c:\\users\\malen\\appdata\\local\\packages\\pythonsoftwarefoundation.python.3.11_qbz5n2kfra8p0\\localcache\\local-packages\\python311\\site-packages (from requests) (3.4.0)\n",
      "Requirement already satisfied: idna<4,>=2.5 in c:\\users\\malen\\appdata\\local\\packages\\pythonsoftwarefoundation.python.3.11_qbz5n2kfra8p0\\localcache\\local-packages\\python311\\site-packages (from requests) (3.10)\n",
      "Requirement already satisfied: urllib3<3,>=1.21.1 in c:\\users\\malen\\appdata\\local\\packages\\pythonsoftwarefoundation.python.3.11_qbz5n2kfra8p0\\localcache\\local-packages\\python311\\site-packages (from requests) (2.3.0)\n",
      "Requirement already satisfied: certifi>=2017.4.17 in c:\\users\\malen\\appdata\\local\\packages\\pythonsoftwarefoundation.python.3.11_qbz5n2kfra8p0\\localcache\\local-packages\\python311\\site-packages (from requests) (2024.12.14)\n",
      "Requirement already satisfied: soupsieve>1.2 in c:\\users\\malen\\appdata\\local\\packages\\pythonsoftwarefoundation.python.3.11_qbz5n2kfra8p0\\localcache\\local-packages\\python311\\site-packages (from beautifulsoup4) (2.6)\n",
      "Requirement already satisfied: typing-extensions>=4.0.0 in c:\\users\\malen\\appdata\\local\\packages\\pythonsoftwarefoundation.python.3.11_qbz5n2kfra8p0\\localcache\\local-packages\\python311\\site-packages (from beautifulsoup4) (4.12.2)\n",
      "Requirement already satisfied: numpy>=1.23.2 in c:\\users\\malen\\appdata\\local\\packages\\pythonsoftwarefoundation.python.3.11_qbz5n2kfra8p0\\localcache\\local-packages\\python311\\site-packages (from pandas) (2.0.2)\n",
      "Requirement already satisfied: python-dateutil>=2.8.2 in c:\\users\\malen\\appdata\\local\\packages\\pythonsoftwarefoundation.python.3.11_qbz5n2kfra8p0\\localcache\\local-packages\\python311\\site-packages (from pandas) (2.9.0.post0)\n",
      "Requirement already satisfied: pytz>=2020.1 in c:\\users\\malen\\appdata\\local\\packages\\pythonsoftwarefoundation.python.3.11_qbz5n2kfra8p0\\localcache\\local-packages\\python311\\site-packages (from pandas) (2025.1)\n",
      "Requirement already satisfied: tzdata>=2022.7 in c:\\users\\malen\\appdata\\local\\packages\\pythonsoftwarefoundation.python.3.11_qbz5n2kfra8p0\\localcache\\local-packages\\python311\\site-packages (from pandas) (2024.2)\n",
      "Requirement already satisfied: et-xmlfile in c:\\users\\malen\\appdata\\local\\packages\\pythonsoftwarefoundation.python.3.11_qbz5n2kfra8p0\\localcache\\local-packages\\python311\\site-packages (from openpyxl) (2.0.0)\n",
      "Requirement already satisfied: six>=1.5 in c:\\users\\malen\\appdata\\local\\packages\\pythonsoftwarefoundation.python.3.11_qbz5n2kfra8p0\\localcache\\local-packages\\python311\\site-packages (from python-dateutil>=2.8.2->pandas) (1.16.0)\n"
     ]
    }
   ],
   "source": [
    "%pip install requests beautifulsoup4 pandas openpyxl\n",
    "import os\n",
    "import re\n",
    "import json\n",
    "import random\n"
   ]
  },
  {
   "cell_type": "code",
   "execution_count": 10,
   "metadata": {},
   "outputs": [],
   "source": [
    "\n",
    "# Paths\n",
    "DATA_DIR = \"data_source\"\n",
    "OUTPUT_DIR = \".\"\n",
    "TRAIN_FILE = os.path.join(OUTPUT_DIR, \"train.jsonl\")\n",
    "VAL_FILE = os.path.join(OUTPUT_DIR, \"val.jsonl\")\n",
    "TEST_FILE = os.path.join(OUTPUT_DIR, \"test.jsonl\")\n",
    "\n",
    "def load_texts(data_dir):\n",
    "    \"\"\"Load all .txt files inside the data_source folder\"\"\"\n",
    "    texts = []\n",
    "    for root, _, files in os.walk(data_dir):\n",
    "        for f in files:\n",
    "            if f.endswith(\".txt\"):\n",
    "                with open(os.path.join(root, f), \"r\", encoding=\"utf-8\", errors=\"ignore\") as infile:\n",
    "                    texts.append(infile.read())\n",
    "    return texts\n",
    "\n",
    "def clean_text(text):\n",
    "    \"\"\"Normalize Tshiluba text\"\"\"\n",
    "    text = text.replace(\"\\n\", \" \")  # remove line breaks\n",
    "    text = re.sub(r\"[^a-zA-Zà-žÀ-Ž\\s\\.\\,\\;\\:\\?\\!']\", \" \", text)  # keep letters & punctuation\n",
    "    text = re.sub(r\"\\s+\", \" \", text)  # collapse spaces\n",
    "    return text.strip()\n",
    "\n",
    "def split_sentences(text):\n",
    "    \"\"\"Split text into sentences using punctuation\"\"\"\n",
    "    sentences = re.split(r\"[\\.!\\?]+\", text)\n",
    "    return [s.strip() for s in sentences if len(s.strip()) > 3]"
   ]
  },
  {
   "cell_type": "code",
   "execution_count": 11,
   "metadata": {},
   "outputs": [
    {
     "name": "stdout",
     "output_type": "stream",
     "text": [
      "Collected 58836 sentences.\n",
      "Saved 41185 train, 8825 val, 8826 test sentences.\n"
     ]
    }
   ],
   "source": [
    "# Step 1: Load and preprocess\n",
    "all_texts = load_texts(DATA_DIR)\n",
    "cleaned_sentences = []\n",
    "for t in all_texts:\n",
    "    cleaned_sentences.extend(split_sentences(clean_text(t)))\n",
    "\n",
    "print(f\"Collected {len(cleaned_sentences)} sentences.\")\n",
    "\n",
    "# Step 2: Shuffle\n",
    "random.shuffle(cleaned_sentences)\n",
    "\n",
    "# Step 3: Split train/val/test (70/15/15)\n",
    "n = len(cleaned_sentences)\n",
    "train_split = int(0.7 * n)\n",
    "val_split = int(0.85 * n)\n",
    "\n",
    "train_data = cleaned_sentences[:train_split]\n",
    "val_data = cleaned_sentences[train_split:val_split]\n",
    "test_data = cleaned_sentences[val_split:]\n",
    "\n",
    "# Step 4: Save JSONL\n",
    "def save_jsonl(filename, sentences):\n",
    "    with open(filename, \"w\", encoding=\"utf-8\") as f:\n",
    "        for i, s in enumerate(sentences):\n",
    "            f.write(json.dumps({\"id\": f\"{os.path.basename(filename)}_{i}\", \"text\": s}, ensure_ascii=False) + \"\\n\")\n",
    "\n",
    "save_jsonl(TRAIN_FILE, train_data)\n",
    "save_jsonl(VAL_FILE, val_data)\n",
    "save_jsonl(TEST_FILE, test_data)\n",
    "\n",
    "print(f\"Saved {len(train_data)} train, {len(val_data)} val, {len(test_data)} test sentences.\")\n",
    "        "
   ]
  },
  {
   "cell_type": "code",
   "execution_count": 12,
   "metadata": {},
   "outputs": [
    {
     "name": "stdout",
     "output_type": "stream",
     "text": [
      "Total sentences: 58836\n",
      "Vocabulary size: 56315\n",
      "Average sentence length: 21.96 tokens\n"
     ]
    }
   ],
   "source": [
    "from collections import Counter\n",
    "import json\n",
    "\n",
    "def load_sentences(filename):\n",
    "    sentences = []\n",
    "    with open(filename, \"r\", encoding=\"utf-8\") as f:\n",
    "        for line in f:\n",
    "            entry = json.loads(line)\n",
    "            sentences.append(entry[\"text\"])\n",
    "    return sentences\n",
    "\n",
    "# Load all splits\n",
    "train_sentences = load_sentences(\"train.jsonl\")\n",
    "val_sentences = load_sentences(\"val.jsonl\")\n",
    "test_sentences = load_sentences(\"test.jsonl\")\n",
    "\n",
    "all_sentences = train_sentences + val_sentences + test_sentences\n",
    "\n",
    "# Tokenize by whitespace (basic)\n",
    "tokens = [word for sent in all_sentences for word in sent.split()]\n",
    "\n",
    "# Vocabulary\n",
    "vocab = Counter(tokens)\n",
    "vocab_size = len(vocab)\n",
    "\n",
    "# Sentence lengths\n",
    "sentence_lengths = [len(sent.split()) for sent in all_sentences]\n",
    "avg_length = sum(sentence_lengths) / len(sentence_lengths)\n",
    "\n",
    "print(f\"Total sentences: {len(all_sentences)}\")\n",
    "print(f\"Vocabulary size: {vocab_size}\")\n",
    "print(f\"Average sentence length: {avg_length:.2f} tokens\")\n"
   ]
  }
 ],
 "metadata": {
  "kernelspec": {
   "display_name": "Python 3",
   "language": "python",
   "name": "python3"
  },
  "language_info": {
   "codemirror_mode": {
    "name": "ipython",
    "version": 3
   },
   "file_extension": ".py",
   "mimetype": "text/x-python",
   "name": "python",
   "nbconvert_exporter": "python",
   "pygments_lexer": "ipython3",
   "version": "3.11.9"
  }
 },
 "nbformat": 4,
 "nbformat_minor": 2
}
